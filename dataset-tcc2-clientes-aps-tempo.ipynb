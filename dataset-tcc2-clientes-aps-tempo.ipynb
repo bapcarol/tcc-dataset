{
 "cells": [
  {
   "cell_type": "code",
   "execution_count": 1,
   "metadata": {},
   "outputs": [],
   "source": [
    "import datetime as dt\n",
    "import pandas as pd\n",
    "import numpy as np\n",
    "import csv\n",
    "import sys"
   ]
  },
  {
   "cell_type": "code",
   "execution_count": 2,
   "metadata": {},
   "outputs": [],
   "source": [
    "#carregar arquivo\n",
    "base_filtrada = pd.read_csv('dataset-filtrado.csv',sep=',',encoding='iso-8859-1', dtype='object', usecols=['mac-sta', 'sTime-forward', 'ap'])"
   ]
  },
  {
   "cell_type": "code",
   "execution_count": 3,
   "metadata": {},
   "outputs": [],
   "source": [
    "#passando pra datetime \n",
    "base_filtrada['sTime-forward-datetime'] = pd.to_datetime(base_filtrada['sTime-forward'], origin = 'unix', unit = 's')\n",
    "#base_filtrada['sTime-forward-datetime']"
   ]
  },
  {
   "cell_type": "code",
   "execution_count": 4,
   "metadata": {},
   "outputs": [],
   "source": [
    "base_filtrada['sTime-forward-datetime-time'] = base_filtrada['sTime-forward-datetime'].dt.strftime(\"%H\")\n",
    "#base_filtrada['sTime-forward-datetime-time']"
   ]
  },
  {
   "cell_type": "code",
   "execution_count": 5,
   "metadata": {},
   "outputs": [],
   "source": [
    "base_filtrada['sTime-forward-datetime-day'] = base_filtrada['sTime-forward-datetime'].dt.strftime(\"%d\")\n",
    "#base_filtrada['sTime-forward-datetime-day']"
   ]
  },
  {
   "cell_type": "code",
   "execution_count": 6,
   "metadata": {},
   "outputs": [],
   "source": [
    "base_filtrada_dia_24_11h = base_filtrada[(base_filtrada['sTime-forward-datetime-day']== '24') & (base_filtrada['sTime-forward-datetime-time']== '11')]\n",
    "#base_filtrada_dia_24_11h"
   ]
  },
  {
   "cell_type": "code",
   "execution_count": 7,
   "metadata": {},
   "outputs": [],
   "source": [
    "tmin = base_filtrada_dia_24_11h['sTime-forward'].min()"
   ]
  },
  {
   "cell_type": "code",
   "execution_count": 8,
   "metadata": {},
   "outputs": [
    {
     "name": "stderr",
     "output_type": "stream",
     "text": [
      "C:\\Users\\CarolinaBaptistadeli\\anaconda3\\lib\\site-packages\\ipykernel_launcher.py:3: SettingWithCopyWarning: \n",
      "A value is trying to be set on a copy of a slice from a DataFrame.\n",
      "Try using .loc[row_indexer,col_indexer] = value instead\n",
      "\n",
      "See the caveats in the documentation: https://pandas.pydata.org/pandas-docs/stable/user_guide/indexing.html#returning-a-view-versus-a-copy\n",
      "  This is separate from the ipykernel package so we can avoid doing imports until\n"
     ]
    }
   ],
   "source": [
    "#achando o tnovo partindo de 0s\n",
    "tmin = float(tmin)\n",
    "base_filtrada_dia_24_11h['sTime-foward-0start'] = base_filtrada_dia_24_11h['sTime-forward'].astype(float).map(lambda x: x - tmin)\n",
    "#base_filtrada_dia_24_11h['sTime-foward-0start']"
   ]
  },
  {
   "cell_type": "code",
   "execution_count": 9,
   "metadata": {},
   "outputs": [
    {
     "data": {
      "text/html": [
       "<div>\n",
       "<style scoped>\n",
       "    .dataframe tbody tr th:only-of-type {\n",
       "        vertical-align: middle;\n",
       "    }\n",
       "\n",
       "    .dataframe tbody tr th {\n",
       "        vertical-align: top;\n",
       "    }\n",
       "\n",
       "    .dataframe thead th {\n",
       "        text-align: right;\n",
       "    }\n",
       "</style>\n",
       "<table border=\"1\" class=\"dataframe\">\n",
       "  <thead>\n",
       "    <tr style=\"text-align: right;\">\n",
       "      <th></th>\n",
       "      <th>sTime-forward</th>\n",
       "      <th>mac-sta</th>\n",
       "      <th>ap</th>\n",
       "      <th>sTime-forward-datetime</th>\n",
       "      <th>sTime-forward-datetime-time</th>\n",
       "      <th>sTime-forward-datetime-day</th>\n",
       "      <th>sTime-foward-0start</th>\n",
       "    </tr>\n",
       "  </thead>\n",
       "  <tbody>\n",
       "    <tr>\n",
       "      <th>35124072</th>\n",
       "      <td>1524567606.71</td>\n",
       "      <td>d0:17:c2:8f:80:3b</td>\n",
       "      <td>ap0222</td>\n",
       "      <td>2018-04-24 11:00:06.710000038</td>\n",
       "      <td>11</td>\n",
       "      <td>24</td>\n",
       "      <td>0.00</td>\n",
       "    </tr>\n",
       "    <tr>\n",
       "      <th>35124073</th>\n",
       "      <td>1524567617.59</td>\n",
       "      <td>d0:17:c2:8f:80:3b</td>\n",
       "      <td>ap0222</td>\n",
       "      <td>2018-04-24 11:00:17.589999914</td>\n",
       "      <td>11</td>\n",
       "      <td>24</td>\n",
       "      <td>10.88</td>\n",
       "    </tr>\n",
       "    <tr>\n",
       "      <th>35124074</th>\n",
       "      <td>1524567607.79</td>\n",
       "      <td>1c:91:48:b4:47:e8</td>\n",
       "      <td>ap0604</td>\n",
       "      <td>2018-04-24 11:00:07.789999962</td>\n",
       "      <td>11</td>\n",
       "      <td>24</td>\n",
       "      <td>1.08</td>\n",
       "    </tr>\n",
       "    <tr>\n",
       "      <th>35124075</th>\n",
       "      <td>1524567623.96</td>\n",
       "      <td>68:fb:7e:72:8a:be</td>\n",
       "      <td>ap0055</td>\n",
       "      <td>2018-04-24 11:00:23.960000038</td>\n",
       "      <td>11</td>\n",
       "      <td>24</td>\n",
       "      <td>17.25</td>\n",
       "    </tr>\n",
       "    <tr>\n",
       "      <th>35124076</th>\n",
       "      <td>1524567623.96</td>\n",
       "      <td>68:fb:7e:72:8a:be</td>\n",
       "      <td>ap0055</td>\n",
       "      <td>2018-04-24 11:00:23.960000038</td>\n",
       "      <td>11</td>\n",
       "      <td>24</td>\n",
       "      <td>17.25</td>\n",
       "    </tr>\n",
       "  </tbody>\n",
       "</table>\n",
       "</div>"
      ],
      "text/plain": [
       "          sTime-forward            mac-sta      ap  \\\n",
       "35124072  1524567606.71  d0:17:c2:8f:80:3b  ap0222   \n",
       "35124073  1524567617.59  d0:17:c2:8f:80:3b  ap0222   \n",
       "35124074  1524567607.79  1c:91:48:b4:47:e8  ap0604   \n",
       "35124075  1524567623.96  68:fb:7e:72:8a:be  ap0055   \n",
       "35124076  1524567623.96  68:fb:7e:72:8a:be  ap0055   \n",
       "\n",
       "                sTime-forward-datetime sTime-forward-datetime-time  \\\n",
       "35124072 2018-04-24 11:00:06.710000038                          11   \n",
       "35124073 2018-04-24 11:00:17.589999914                          11   \n",
       "35124074 2018-04-24 11:00:07.789999962                          11   \n",
       "35124075 2018-04-24 11:00:23.960000038                          11   \n",
       "35124076 2018-04-24 11:00:23.960000038                          11   \n",
       "\n",
       "         sTime-forward-datetime-day  sTime-foward-0start  \n",
       "35124072                         24                 0.00  \n",
       "35124073                         24                10.88  \n",
       "35124074                         24                 1.08  \n",
       "35124075                         24                17.25  \n",
       "35124076                         24                17.25  "
      ]
     },
     "execution_count": 9,
     "metadata": {},
     "output_type": "execute_result"
    }
   ],
   "source": [
    "base_filtrada_dia_24_11h.head()"
   ]
  },
  {
   "cell_type": "code",
   "execution_count": 10,
   "metadata": {},
   "outputs": [],
   "source": [
    "base_dia_24_11h_foward = base_filtrada_dia_24_11h.replace({'dur+msec-forward': {'0': '1', '0.0': '1.0'}})"
   ]
  },
  {
   "cell_type": "code",
   "execution_count": 11,
   "metadata": {},
   "outputs": [],
   "source": [
    "base_dia_24_11h_foward = base_dia_24_11h_foward.sort_values(['sTime-foward-0start'])"
   ]
  },
  {
   "cell_type": "code",
   "execution_count": 12,
   "metadata": {},
   "outputs": [
    {
     "data": {
      "text/html": [
       "<div>\n",
       "<style scoped>\n",
       "    .dataframe tbody tr th:only-of-type {\n",
       "        vertical-align: middle;\n",
       "    }\n",
       "\n",
       "    .dataframe tbody tr th {\n",
       "        vertical-align: top;\n",
       "    }\n",
       "\n",
       "    .dataframe thead th {\n",
       "        text-align: right;\n",
       "    }\n",
       "</style>\n",
       "<table border=\"1\" class=\"dataframe\">\n",
       "  <thead>\n",
       "    <tr style=\"text-align: right;\">\n",
       "      <th></th>\n",
       "      <th>sTime-forward</th>\n",
       "      <th>mac-sta</th>\n",
       "      <th>ap</th>\n",
       "      <th>sTime-forward-datetime</th>\n",
       "      <th>sTime-forward-datetime-time</th>\n",
       "      <th>sTime-forward-datetime-day</th>\n",
       "      <th>sTime-foward-0start</th>\n",
       "    </tr>\n",
       "  </thead>\n",
       "  <tbody>\n",
       "    <tr>\n",
       "      <th>35124072</th>\n",
       "      <td>1524567606.71</td>\n",
       "      <td>d0:17:c2:8f:80:3b</td>\n",
       "      <td>ap0222</td>\n",
       "      <td>2018-04-24 11:00:06.710000038</td>\n",
       "      <td>11</td>\n",
       "      <td>24</td>\n",
       "      <td>0.00</td>\n",
       "    </tr>\n",
       "    <tr>\n",
       "      <th>35124074</th>\n",
       "      <td>1524567607.79</td>\n",
       "      <td>1c:91:48:b4:47:e8</td>\n",
       "      <td>ap0604</td>\n",
       "      <td>2018-04-24 11:00:07.789999962</td>\n",
       "      <td>11</td>\n",
       "      <td>24</td>\n",
       "      <td>1.08</td>\n",
       "    </tr>\n",
       "    <tr>\n",
       "      <th>35124073</th>\n",
       "      <td>1524567617.59</td>\n",
       "      <td>d0:17:c2:8f:80:3b</td>\n",
       "      <td>ap0222</td>\n",
       "      <td>2018-04-24 11:00:17.589999914</td>\n",
       "      <td>11</td>\n",
       "      <td>24</td>\n",
       "      <td>10.88</td>\n",
       "    </tr>\n",
       "    <tr>\n",
       "      <th>35124075</th>\n",
       "      <td>1524567623.96</td>\n",
       "      <td>68:fb:7e:72:8a:be</td>\n",
       "      <td>ap0055</td>\n",
       "      <td>2018-04-24 11:00:23.960000038</td>\n",
       "      <td>11</td>\n",
       "      <td>24</td>\n",
       "      <td>17.25</td>\n",
       "    </tr>\n",
       "    <tr>\n",
       "      <th>35124076</th>\n",
       "      <td>1524567623.96</td>\n",
       "      <td>68:fb:7e:72:8a:be</td>\n",
       "      <td>ap0055</td>\n",
       "      <td>2018-04-24 11:00:23.960000038</td>\n",
       "      <td>11</td>\n",
       "      <td>24</td>\n",
       "      <td>17.25</td>\n",
       "    </tr>\n",
       "  </tbody>\n",
       "</table>\n",
       "</div>"
      ],
      "text/plain": [
       "          sTime-forward            mac-sta      ap  \\\n",
       "35124072  1524567606.71  d0:17:c2:8f:80:3b  ap0222   \n",
       "35124074  1524567607.79  1c:91:48:b4:47:e8  ap0604   \n",
       "35124073  1524567617.59  d0:17:c2:8f:80:3b  ap0222   \n",
       "35124075  1524567623.96  68:fb:7e:72:8a:be  ap0055   \n",
       "35124076  1524567623.96  68:fb:7e:72:8a:be  ap0055   \n",
       "\n",
       "                sTime-forward-datetime sTime-forward-datetime-time  \\\n",
       "35124072 2018-04-24 11:00:06.710000038                          11   \n",
       "35124074 2018-04-24 11:00:07.789999962                          11   \n",
       "35124073 2018-04-24 11:00:17.589999914                          11   \n",
       "35124075 2018-04-24 11:00:23.960000038                          11   \n",
       "35124076 2018-04-24 11:00:23.960000038                          11   \n",
       "\n",
       "         sTime-forward-datetime-day  sTime-foward-0start  \n",
       "35124072                         24                 0.00  \n",
       "35124074                         24                 1.08  \n",
       "35124073                         24                10.88  \n",
       "35124075                         24                17.25  \n",
       "35124076                         24                17.25  "
      ]
     },
     "execution_count": 12,
     "metadata": {},
     "output_type": "execute_result"
    }
   ],
   "source": [
    "base_dia_24_11h_foward.head()"
   ]
  },
  {
   "cell_type": "code",
   "execution_count": 13,
   "metadata": {},
   "outputs": [],
   "source": [
    "#extrair base com modificações\n",
    "base_dia_24_11h_foward[['sTime-foward-0start', 'ap', 'mac-sta']].to_csv('base_11h_cliente_em_cada_ap.txt', encoding='utf-8', sep=',', index=False, header=False)"
   ]
  },
  {
   "cell_type": "code",
   "execution_count": null,
   "metadata": {},
   "outputs": [],
   "source": []
  }
 ],
 "metadata": {
  "kernelspec": {
   "display_name": "Python 3",
   "language": "python",
   "name": "python3"
  },
  "language_info": {
   "codemirror_mode": {
    "name": "ipython",
    "version": 3
   },
   "file_extension": ".py",
   "mimetype": "text/x-python",
   "name": "python",
   "nbconvert_exporter": "python",
   "pygments_lexer": "ipython3",
   "version": "3.7.6"
  }
 },
 "nbformat": 4,
 "nbformat_minor": 4
}
