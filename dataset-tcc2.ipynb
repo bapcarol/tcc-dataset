{
 "cells": [
  {
   "cell_type": "code",
   "execution_count": null,
   "metadata": {},
   "outputs": [],
   "source": [
    "import datetime as dt\n",
    "import pandas as pd\n",
    "import numpy as np\n",
    "import csv\n",
    "import sys"
   ]
  },
  {
   "cell_type": "code",
   "execution_count": null,
   "metadata": {},
   "outputs": [],
   "source": [
    "#carregar arquivo\n",
    "base_filtrada = pd.read_csv('dataset-filtrado.csv',sep=',',encoding='iso-8859-1', dtype='object', usecols= ['sTime-forward', 'mac-sta', 'ap', 'dIP-forward'])"
   ]
  },
  {
   "cell_type": "code",
   "execution_count": null,
   "metadata": {},
   "outputs": [],
   "source": [
    "#passando pra datetime \n",
    "base_filtrada['sTime-forward-datetime'] = pd.to_datetime(base_filtrada['sTime-forward'], origin = 'unix', unit = 's')\n",
    "#base_filtrada['sTime-forward-datetime']"
   ]
  },
  {
   "cell_type": "code",
   "execution_count": null,
   "metadata": {},
   "outputs": [],
   "source": [
    "import datetime as dt\n",
    "base_filtrada['sTime-forward-datetime-time'] = base_filtrada['sTime-forward-datetime'].dt.strftime(\"%H\")\n",
    "#base_filtrada['sTime-forward-datetime-time']"
   ]
  },
  {
   "cell_type": "code",
   "execution_count": null,
   "metadata": {},
   "outputs": [],
   "source": [
    "base_filtrada['sTime-forward-datetime-day'] = base_filtrada['sTime-forward-datetime'].dt.strftime(\"%d\")\n",
    "#base_filtrada['sTime-forward-datetime-day']"
   ]
  },
  {
   "cell_type": "code",
   "execution_count": null,
   "metadata": {},
   "outputs": [],
   "source": [
    "base_filtrada.head()"
   ]
  },
  {
   "cell_type": "code",
   "execution_count": null,
   "metadata": {},
   "outputs": [],
   "source": [
    "base_filtrada_dia_24_11h = base_filtrada[(base_filtrada['sTime-forward-datetime-day']== '24') & (base_filtrada['sTime-forward-datetime-time']== '11')]\n",
    "base_filtrada_dia_24_11h"
   ]
  },
  {
   "cell_type": "code",
   "execution_count": null,
   "metadata": {},
   "outputs": [],
   "source": [
    "tmin = base_filtrada_dia_24_11h['sTime-forward'].min()"
   ]
  },
  {
   "cell_type": "code",
   "execution_count": null,
   "metadata": {},
   "outputs": [],
   "source": [
    "base_filtrada_dia_24_11h['sTime-forward'].astype(float)\n",
    "base_filtrada_dia_24_11h['sTime-forward']"
   ]
  },
  {
   "cell_type": "code",
   "execution_count": null,
   "metadata": {},
   "outputs": [],
   "source": [
    "#achando o tnovo partindo de 0s\n",
    "base_filtrada_dia_24_11h['sTime-foward-0start'] = base_filtrada_dia_24_11h['sTime-forward'].astype(float).map(lambda x: x - tmin)\n",
    "base_filtrada_dia_24_11h['sTime-foward-0start']"
   ]
  },
  {
   "cell_type": "code",
   "execution_count": null,
   "metadata": {},
   "outputs": [],
   "source": [
    "base_filtrada_dia_24_11h.head()"
   ]
  },
  {
   "cell_type": "code",
   "execution_count": null,
   "metadata": {},
   "outputs": [],
   "source": [
    "base_filtrada_dia_24_11h.sort_values(['sTime-foward-0start'])"
   ]
  },
  {
   "cell_type": "code",
   "execution_count": null,
   "metadata": {},
   "outputs": [],
   "source": [
    "macs = base_filtrada_dia_24_11h['mac-sta'].nunique()\n",
    "macs"
   ]
  },
  {
   "cell_type": "code",
   "execution_count": null,
   "metadata": {},
   "outputs": [],
   "source": [
    "destinos = base_filtrada_dia_24_11h['dIP-forward'].nunique()\n",
    "destinos"
   ]
  },
  {
   "cell_type": "code",
   "execution_count": null,
   "metadata": {},
   "outputs": [],
   "source": [
    "aps = base_filtrada_dia_24_11h['ap'].nunique()\n",
    "aps"
   ]
  },
  {
   "cell_type": "code",
   "execution_count": null,
   "metadata": {},
   "outputs": [],
   "source": [
    "base_macs_agg = base_filtrada.groupby(['sTime-forward-datetime-day', 'sTime-forward-datetime-time'])['mac-sta'].apply(lambda g: g.nunique())\n",
    "\n",
    "base_destinos_agg = base_filtrada.groupby(['sTime-forward-datetime-day', 'sTime-forward-datetime-time'])['dIP-forward'].apply(lambda g: g.nunique())\n"
   ]
  },
  {
   "cell_type": "code",
   "execution_count": null,
   "metadata": {},
   "outputs": [],
   "source": [
    "base_nos_totais = base_macs_agg + base_destinos_agg\n",
    "\n",
    "base_nos_totais = base_nos_totais.sort_values()\n",
    "\n",
    "print(base_nos_totais)"
   ]
  },
  {
   "cell_type": "code",
   "execution_count": null,
   "metadata": {},
   "outputs": [],
   "source": [
    "base_nos_totais_df = pd.DataFrame(base_nos_totais)\n",
    "base_nos_totais_df = base_nos_totais_df.rename(columns={0: \"Nos totais\"})\n",
    "base_nos_totais_df\n",
    "base_nos_totais_filtrados = base_nos_totais_df[(base_nos_totais_df['Nos totais']<600) & (base_nos_totais_df['Nos totais']>500)]\n",
    "#base_nos_totais_filtrados\n",
    "#base_nos_totais_gt = base_nos_totais_df[base_nos_totais_df.iloc[:>= 60 ]  \n",
    "#df.iloc[lambda x: x.index % 2 == 0]"
   ]
  },
  {
   "cell_type": "code",
   "execution_count": null,
   "metadata": {},
   "outputs": [],
   "source": [
    "base_nos_totais_filtrados['less_600_greater_500'] = base_nos_totais_gt\n",
    "base_nos_totais_filtrados"
   ]
  },
  {
   "cell_type": "code",
   "execution_count": null,
   "metadata": {},
   "outputs": [],
   "source": [
    "#base_tempo_tmin = open('base_tempo_tmin.txt', 'r'),\n",
    "for line in base_nos_totais_df:\n",
    "    pass\n",
    "print(line)"
   ]
  },
  {
   "cell_type": "code",
   "execution_count": null,
   "metadata": {},
   "outputs": [],
   "source": [
    "base_aps_agg = base_filtrada.groupby(['sTime-forward-datetime-day', 'sTime-forward-datetime-day'])['ap'].apply(lambda g: g.nunique())"
   ]
  },
  {
   "cell_type": "code",
   "execution_count": null,
   "metadata": {},
   "outputs": [],
   "source": [
    "base_nos_totais_aps = base_macs_agg + base_destinos_agg + base_aps_agg"
   ]
  },
  {
   "cell_type": "code",
   "execution_count": null,
   "metadata": {},
   "outputs": [],
   "source": [
    "base_nos_totais_aps_df = pd.DataFrame(base_nos_totais_aps)\n",
    "base_nos_totais_aps_df = base_nos_totais_df.rename(columns={0: \"Nos totais\"})\n",
    "base_nos_totais_aps_df\n",
    "base_nos_totais_aps_filtrados = base_nos_totais_aps_df[(base_nos_totais_aps_df['Nos totais']<600) & (base_nos_totais_aps_df['Nos totais']>500)]\n",
    "#base_nos_totais_filtrados\n",
    "#base_nos_totais_gt = base_nos_totais_df[base_nos_totais_df.iloc[:>= 60 ]  \n",
    "#df.iloc[lambda x: x.index % 2 == 0]"
   ]
  },
  {
   "cell_type": "code",
   "execution_count": null,
   "metadata": {},
   "outputs": [],
   "source": [
    "base_nos_totais_aps_filtrados['less_600_greater_500'] = base_nos_totais_gt\n",
    "base_nos_totais_aps_filtrados"
   ]
  },
  {
   "cell_type": "code",
   "execution_count": null,
   "metadata": {},
   "outputs": [],
   "source": [
    "#extrair base com modificações\n",
    "base_filtrada_dia_24_11h[['sTime-foward-0start', 'mac-sta', 'ap']].to_csv('base_tempo_cliente_ap.txt', encoding='utf-8', sep=',', index=False, header=False)"
   ]
  },
  {
   "cell_type": "code",
   "execution_count": null,
   "metadata": {},
   "outputs": [],
   "source": []
  }
 ],
 "metadata": {
  "kernelspec": {
   "display_name": "Python 3",
   "language": "python",
   "name": "python3"
  },
  "language_info": {
   "codemirror_mode": {
    "name": "ipython",
    "version": 3
   },
   "file_extension": ".py",
   "mimetype": "text/x-python",
   "name": "python",
   "nbconvert_exporter": "python",
   "pygments_lexer": "ipython3",
   "version": "3.7.6"
  }
 },
 "nbformat": 4,
 "nbformat_minor": 4
}
